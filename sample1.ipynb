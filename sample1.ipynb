{
 "cells": [
  {
   "cell_type": "code",
   "execution_count": 151,
   "metadata": {},
   "outputs": [],
   "source": [
    "from inltk.inltk import tokenize"
   ]
  },
  {
   "cell_type": "code",
   "execution_count": 152,
   "metadata": {},
   "outputs": [],
   "source": [
    "import re\n",
    "import numpy as np\n",
    "from nltk import sent_tokenize, word_tokenize\n",
    "from nltk.cluster.util import cosine_distance"
   ]
  },
  {
   "cell_type": "code",
   "execution_count": 153,
   "metadata": {},
   "outputs": [],
   "source": [
    "MULTIPLE_WHITESPACE_PATTERN = re.compile(r\"\\s+\", re.UNICODE)"
   ]
  },
  {
   "cell_type": "code",
   "execution_count": 154,
   "metadata": {},
   "outputs": [],
   "source": [
    "# text_str = '''\n",
    "#     Those Who Are Resilient Stay In The Game Longer *\n",
    "#     “On the mountains of truth you can never climb in vain: either you will reach a point higher up today, or you will be training your powers so that you will be able to climb higher tomorrow.” — Friedrich Nietzsche\n",
    "#     Challenges and setbacks are not meant to defeat you, but promote you. However, I realise after many years of defeats, it can crush your spirit and it is easier to give up than risk further setbacks and disappointments. Have you experienced this before? To be honest, I don’t have the answers. I can’t tell you what the right course of action is; only you will know. However, it’s important not to be discouraged by failure when pursuing a goal or a dream, since failure itself means different things to different people. To a person with a Fixed Mindset failure is a blow to their self-esteem, yet to a person with a Growth Mindset, it’s an opportunity to improve and find new ways to overcome their obstacles. Same failure, yet different responses. Who is right and who is wrong? Neither. Each person has a different mindset that decides their outcome. Those who are resilient stay in the game longer and draw on their inner means to succeed.\n",
    "# #     '''\n",
    "\n",
    "text_str = '''\n",
    "भारतीय टीम को ऑस्ट्रेलिया के खिलाफ 4 मैचों की टेस्ट सीरीज का तीसरा मुकाबला 1 मार्च से इंदौर में खेलना है. सीरीज में इस वक्त भारतीय टीम 2-0 से आगे है. शुरुआती दोनों टेस्ट में भारतीय स्पिनर गेंदबाजों के आगे ऑस्ट्रेलियाई टीम घुटने टेकती नजर आई. मगर मिडिल ऑर्डर बल्लेबाज पीटर हैंड्सकॉम्ब ने दिल्ली टेस्ट में 72 रनों की नाबाद पारी खेली थी.पीटर हैंड्सकॉम्ब ने पूर्व भारतीय उपकप्तान अजिंक्य रहाणे के साथ उस बातचीत को याद किया जिससे उन्हें उपमहाद्वीप में स्पिन गेंदबाजी का सामना करने में मदद की. हैंड्सकॉम्ब ने 2016 में IPL के दौरान रहाणे के साथ ड्रेसिंग रूम शेयर किया था. रहाणे ने इस दौरान हैंड्सकॉम्ब को स्पिनरों को बल्लेबाजी के दौरान पैर और कलाई के उपयोग करने के बारे में बताया था.सिडनी मॉर्निंग हेराल्ड से बात करते हुए पीटर ने कहा, 'वह अपने पिछले पैर का इस्तेमाल करते हुए स्पिनरों को आसानी से मिडविकेट की ओर खेल रहे थे. इससे मैं आश्चर्यचकित हो रहा था. स्पिनरों के खिलाफ रहाणे की बल्लेबाजी देख कर मैं सोच रहा था कि मुझे यह सिखाने के लिए किसी की जरूरत है. मैंने उनसे स्पिनरों के खिलाफ बल्लेबाजी में कदमों के इस्तेमाल के तरीके पर बातचीत की.'\n",
    "'''"
   ]
  },
  {
   "cell_type": "code",
   "execution_count": 155,
   "metadata": {},
   "outputs": [],
   "source": [
    "damping = 0.85  # damping coefficient, usually is .85\n",
    "min_diff = 1e-5  # convergence threshold\n",
    "steps = 100  # iteration steps\n",
    "sentences = None\n",
    "pr_vector = None"
   ]
  },
  {
   "cell_type": "code",
   "execution_count": 156,
   "metadata": {},
   "outputs": [],
   "source": [
    "def _replace_whitespace(match):\n",
    "    text = match.group()\n",
    "\n",
    "    if \"\\n\" in text or \"\\r\" in text:\n",
    "        return \"\\n\"\n",
    "    else:\n",
    "        return \" \""
   ]
  },
  {
   "cell_type": "code",
   "execution_count": 157,
   "metadata": {},
   "outputs": [],
   "source": [
    "def normalize_whitespace(text):\n",
    "    \"\"\"\n",
    "    Translates multiple whitespace into single space character.\n",
    "    If there is at least one new line character chunk is replaced\n",
    "    by single LF (Unix new line) character.\n",
    "    \"\"\"\n",
    "    return MULTIPLE_WHITESPACE_PATTERN.sub(_replace_whitespace, text)"
   ]
  },
  {
   "cell_type": "code",
   "execution_count": 158,
   "metadata": {},
   "outputs": [],
   "source": [
    "def get_top_sentences( number=5):\n",
    "\n",
    "        top_sentences = []\n",
    "\n",
    "        if pr_vector is not None:\n",
    "\n",
    "            sorted_pr = np.argsort(pr_vector)\n",
    "            sorted_pr = list(sorted_pr)\n",
    "            sorted_pr.reverse()\n",
    "\n",
    "            index = 0\n",
    "            for epoch in range(number):\n",
    "                sent = sentences[sorted_pr[index]]\n",
    "                sent = normalize_whitespace(sent)\n",
    "                top_sentences.append(sent)\n",
    "                index += 1\n",
    "\n",
    "        return top_sentences"
   ]
  },
  {
   "cell_type": "code",
   "execution_count": 159,
   "metadata": {},
   "outputs": [],
   "source": [
    "def _run_page_rank(similarity_matrix):\n",
    "\n",
    "        pr_vector = np.array([1] * len(similarity_matrix))\n",
    "\n",
    "        # Iteration\n",
    "        previous_pr = 0\n",
    "        for epoch in range(steps):\n",
    "            pr_vector = (1 - damping) + damping * np.matmul(similarity_matrix, pr_vector)\n",
    "            if abs(previous_pr - sum(pr_vector)) < min_diff:\n",
    "                break\n",
    "            else:\n",
    "                previous_pr = sum(pr_vector)\n",
    "\n",
    "        return pr_vector"
   ]
  },
  {
   "cell_type": "code",
   "execution_count": 160,
   "metadata": {},
   "outputs": [],
   "source": [
    "def core_cosine_similarity(vector1, vector2):\n",
    "    \"\"\"\n",
    "    measure cosine similarity between two vectors\n",
    "    :param vector1:\n",
    "    :param vector2:\n",
    "    :return: 0 < cosine similarity value < 1\n",
    "    \"\"\"\n",
    "    return 1 - cosine_distance(vector1, vector2)"
   ]
  },
  {
   "cell_type": "code",
   "execution_count": 161,
   "metadata": {},
   "outputs": [],
   "source": [
    "def get_symmetric_matrix(matrix):\n",
    "    \"\"\"\n",
    "    Get Symmetric matrix\n",
    "    :param matrix:\n",
    "    :return: matrix\n",
    "    \"\"\"\n",
    "    return matrix + matrix.T - np.diag(matrix.diagonal())"
   ]
  },
  {
   "cell_type": "code",
   "execution_count": 162,
   "metadata": {},
   "outputs": [],
   "source": [
    "def _sentence_similarity(sent1, sent2, stopwords=None):\n",
    "        if stopwords is None:\n",
    "            stopwords = []\n",
    "\n",
    "        sent1 = [w.lower() for w in sent1]\n",
    "        sent2 = [w.lower() for w in sent2]\n",
    "\n",
    "        all_words = list(set(sent1 + sent2))\n",
    "\n",
    "        vector1 = [0] * len(all_words)\n",
    "        vector2 = [0] * len(all_words)\n",
    "\n",
    "        # build the vector for the first sentence\n",
    "        for w in sent1:\n",
    "            if w in stopwords:\n",
    "                continue\n",
    "            vector1[all_words.index(w)] += 1\n",
    "\n",
    "        # build the vector for the second sentence\n",
    "        for w in sent2:\n",
    "            if w in stopwords:\n",
    "                continue\n",
    "            vector2[all_words.index(w)] += 1\n",
    "\n",
    "        return core_cosine_similarity(vector1, vector2)"
   ]
  },
  {
   "cell_type": "code",
   "execution_count": 163,
   "metadata": {},
   "outputs": [],
   "source": [
    "def _build_similarity_matrix(sentences, stopwords=None):\n",
    "    # create an empty similarity matrix\n",
    "    sm = np.zeros([len(sentences), len(sentences)])\n",
    "\n",
    "    for idx1 in range(len(sentences)):\n",
    "        for idx2 in range(len(sentences)):\n",
    "            if idx1 == idx2:\n",
    "                continue\n",
    "\n",
    "            sm[idx1][idx2] = _sentence_similarity(sentences[idx1], sentences[idx2], stopwords=stopwords)\n",
    "\n",
    "    # Get Symmeric matrix\n",
    "    sm = get_symmetric_matrix(sm)\n",
    "\n",
    "    # Normalize matrix by column\n",
    "    norm = np.sum(sm, axis=0)\n",
    "    sm_norm = np.divide(sm, norm, where=norm != 0)  # this is ignore the 0 element in norm\n",
    "\n",
    "    return sm_norm"
   ]
  },
  {
   "cell_type": "code",
   "execution_count": 164,
   "metadata": {},
   "outputs": [],
   "source": [
    "def analyze(text, stop_words=None):\n",
    "        global sentences\n",
    "        global pr_vector\n",
    "        text_str = text\n",
    "        sentences = sent_tokenize(text_str)\n",
    "        tokenized_sentences = [word_tokenize(sent) for sent in sentences]\n",
    "        # print(tokenized_sentences)\n",
    "        # print(_sentence_similarity(tokenized_sentences[0],tokenized_sentences[1]))\n",
    "        # _build_similarity_matrix(tokenized_sentences, stop_words)\n",
    "        similarity_matrix = _build_similarity_matrix(tokenized_sentences, stop_words)\n",
    "        pr_vector = _run_page_rank(similarity_matrix)"
   ]
  },
  {
   "cell_type": "code",
   "execution_count": 165,
   "metadata": {},
   "outputs": [],
   "source": [
    "analyze(text_str)"
   ]
  },
  {
   "cell_type": "code",
   "execution_count": 166,
   "metadata": {},
   "outputs": [
    {
     "name": "stdout",
     "output_type": "stream",
     "text": [
      "[\"मैंने उनसे स्पिनरों के खिलाफ बल्लेबाजी में कदमों के इस्तेमाल के तरीके पर बातचीत की.'\", '\\nभारतीय टीम को ऑस्ट्रेलिया के खिलाफ 4 मैचों की टेस्ट सीरीज का तीसरा मुकाबला 1 मार्च से इंदौर में खेलना है.', 'हैंड्सकॉम्ब ने 2016 में IPL के दौरान रहाणे के साथ ड्रेसिंग रूम शेयर किया था.', 'स्पिनरों के खिलाफ रहाणे की बल्लेबाजी देख कर मैं सोच रहा था कि मुझे यह सिखाने के लिए किसी की जरूरत है.', 'मगर मिडिल ऑर्डर बल्लेबाज पीटर हैंड्सकॉम्ब ने दिल्ली टेस्ट में 72 रनों की नाबाद पारी खेली थी.पीटर हैंड्सकॉम्ब ने पूर्व भारतीय उपकप्तान अजिंक्य रहाणे के साथ उस बातचीत को याद किया जिससे उन्हें उपमहाद्वीप में स्पिन गेंदबाजी का सामना करने में मदद की.']\n"
     ]
    }
   ],
   "source": [
    "print(get_top_sentences(5))"
   ]
  },
  {
   "cell_type": "code",
   "execution_count": null,
   "metadata": {},
   "outputs": [],
   "source": []
  },
  {
   "cell_type": "code",
   "execution_count": null,
   "metadata": {},
   "outputs": [],
   "source": []
  }
 ],
 "metadata": {
  "kernelspec": {
   "display_name": "Python 3.9.13 ('base')",
   "language": "python",
   "name": "python3"
  },
  "language_info": {
   "codemirror_mode": {
    "name": "ipython",
    "version": 3
   },
   "file_extension": ".py",
   "mimetype": "text/x-python",
   "name": "python",
   "nbconvert_exporter": "python",
   "pygments_lexer": "ipython3",
   "version": "3.9.13"
  },
  "orig_nbformat": 4,
  "vscode": {
   "interpreter": {
    "hash": "075a2cb36326f35a407567dca9d87a8c3650a5c33eb772baa0f482fec269927f"
   }
  }
 },
 "nbformat": 4,
 "nbformat_minor": 2
}
